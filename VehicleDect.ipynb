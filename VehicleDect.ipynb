{
 "cells": [
  {
   "cell_type": "code",
   "execution_count": 4,
   "metadata": {},
   "outputs": [],
   "source": [
    "#Importing computer vision library\n",
    "import cv2 \n",
    "\n",
    "#taking the input video\n",
    "cap = cv2.VideoCapture('Highway_Surveillance.mp4') \n",
    "\n",
    "#using cars.xml as cascadeclassifier\n",
    "car_cascade = cv2.CascadeClassifier('cars.xml') \n",
    "  \n",
    "#reading every frame\n",
    "while True: \n",
    "    ret, frames = cap.read() \n",
    "    \n",
    "    try:\n",
    "        gray = cv2.cvtColor(frames, cv2.COLOR_BGR2GRAY) \n",
    "    except:\n",
    "        break\n",
    "\n",
    "#detecting cars in each frame \n",
    "    cars = car_cascade.detectMultiScale(gray, 1.1, 1) \n",
    "    \n",
    "#drawing a rectangle\n",
    "    for (x,y,w,h) in cars: \n",
    "        cv2.rectangle(frames,(x,y),(x+w,y+h),(0,0,255),2) \n",
    "\n",
    "#playing it as an output video\n",
    "    cv2.imshow('Vehicle_Dedection', frames) \n",
    "\n",
    "\n",
    "    if cv2.waitKey(33) == 27: \n",
    "        break\n",
    "\n",
    "cv2.destroyAllWindows() "
   ]
  },
  {
   "cell_type": "code",
   "execution_count": 5,
   "metadata": {},
   "outputs": [],
   "source": [
    "#pip install opencv-python"
   ]
  },
  {
   "cell_type": "code",
   "execution_count": null,
   "metadata": {},
   "outputs": [],
   "source": []
  }
 ],
 "metadata": {
  "kernelspec": {
   "display_name": "Python 3",
   "language": "python",
   "name": "python3"
  },
  "language_info": {
   "codemirror_mode": {
    "name": "ipython",
    "version": 3
   },
   "file_extension": ".py",
   "mimetype": "text/x-python",
   "name": "python",
   "nbconvert_exporter": "python",
   "pygments_lexer": "ipython3",
   "version": "3.8.5"
  }
 },
 "nbformat": 4,
 "nbformat_minor": 4
}
